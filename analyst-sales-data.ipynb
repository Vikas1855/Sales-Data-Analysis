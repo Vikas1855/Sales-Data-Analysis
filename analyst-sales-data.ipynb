{
 "cells": [
  {
   "cell_type": "code",
   "execution_count": 1,
   "id": "faa3d516",
   "metadata": {
    "_cell_guid": "b1076dfc-b9ad-4769-8c92-a6c4dae69d19",
    "_uuid": "8f2839f25d086af736a60e9eeb907d3b93b6e0e5",
    "execution": {
     "iopub.execute_input": "2023-12-31T05:47:46.842388Z",
     "iopub.status.busy": "2023-12-31T05:47:46.841655Z",
     "iopub.status.idle": "2023-12-31T05:47:47.297118Z",
     "shell.execute_reply": "2023-12-31T05:47:47.296253Z"
    },
    "papermill": {
     "duration": 0.468166,
     "end_time": "2023-12-31T05:47:47.300895",
     "exception": false,
     "start_time": "2023-12-31T05:47:46.832729",
     "status": "completed"
    },
    "tags": []
   },
   "outputs": [
    {
     "name": "stdout",
     "output_type": "stream",
     "text": [
      "/kaggle/input/sample-sales-data/sales_data_sample.csv\n"
     ]
    }
   ],
   "source": [
    "# This Python 3 environment comes with many helpful analytics libraries installed\n",
    "# It is defined by the kaggle/python Docker image: https://github.com/kaggle/docker-python\n",
    "# For example, here's several helpful packages to load\n",
    "\n",
    "import numpy as np # linear algebra\n",
    "import pandas as pd # data processing, CSV file I/O (e.g. pd.read_csv)\n",
    "\n",
    "# Input data files are available in the read-only \"../input/\" directory\n",
    "# For example, running this (by clicking run or pressing Shift+Enter) will list all files under the input directory\n",
    "\n",
    "import os\n",
    "for dirname, _, filenames in os.walk('/kaggle/input'):\n",
    "    for filename in filenames:\n",
    "        print(os.path.join(dirname, filename))\n",
    "\n",
    "# You can write up to 20GB to the current directory (/kaggle/working/) that gets preserved as output when you create a version using \"Save & Run All\" \n",
    "# You can also write temporary files to /kaggle/temp/, but they won't be saved outside of the current session"
   ]
  },
  {
   "cell_type": "markdown",
   "id": "673235c2",
   "metadata": {
    "papermill": {
     "duration": 0.006807,
     "end_time": "2023-12-31T05:47:47.315303",
     "exception": false,
     "start_time": "2023-12-31T05:47:47.308496",
     "status": "completed"
    },
    "tags": []
   },
   "source": [
    "Data Analyst \n",
    "\n",
    "Content :\n",
    "Cleaning data\n",
    "Data Wrangling\n",
    "The Question is \n",
    "* How is the distribution of order quantities and sales?\n",
    "* What is the correlation between the price of each item (PRICEEACH) and the total sales (SALES)?\n",
    "* What are the trends in orders over time?\n",
    "* What is the distribution of order statuses?\n",
    "* Which product line has the highest or lowest sales?\n",
    "* How is the distribution of sales across different countries or regions?\n",
    "Answer the question"
   ]
  },
  {
   "cell_type": "code",
   "execution_count": 2,
   "id": "6380ebc2",
   "metadata": {
    "execution": {
     "iopub.execute_input": "2023-12-31T05:47:47.332104Z",
     "iopub.status.busy": "2023-12-31T05:47:47.331347Z",
     "iopub.status.idle": "2023-12-31T05:47:47.335711Z",
     "shell.execute_reply": "2023-12-31T05:47:47.334876Z"
    },
    "papermill": {
     "duration": 0.015701,
     "end_time": "2023-12-31T05:47:47.338063",
     "exception": false,
     "start_time": "2023-12-31T05:47:47.322362",
     "status": "completed"
    },
    "tags": []
   },
   "outputs": [],
   "source": [
    "#importing the library \n",
    "import numpy as pd\n",
    "import pandas as pd"
   ]
  },
  {
   "cell_type": "markdown",
   "id": "bca2048d",
   "metadata": {
    "papermill": {
     "duration": 0.006751,
     "end_time": "2023-12-31T05:47:47.351870",
     "exception": false,
     "start_time": "2023-12-31T05:47:47.345119",
     "status": "completed"
    },
    "tags": []
   },
   "source": [
    "**Reading the data**"
   ]
  },
  {
   "cell_type": "code",
   "execution_count": 3,
   "id": "bda5aabd",
   "metadata": {
    "execution": {
     "iopub.execute_input": "2023-12-31T05:47:47.369859Z",
     "iopub.status.busy": "2023-12-31T05:47:47.369116Z",
     "iopub.status.idle": "2023-12-31T05:47:47.416178Z",
     "shell.execute_reply": "2023-12-31T05:47:47.415023Z"
    },
    "papermill": {
     "duration": 0.059542,
     "end_time": "2023-12-31T05:47:47.419107",
     "exception": false,
     "start_time": "2023-12-31T05:47:47.359565",
     "status": "completed"
    },
    "tags": []
   },
   "outputs": [],
   "source": [
    "df = pd.read_csv('../input/sample-sales-data/sales_data_sample.csv', encoding = 'unicode_escape')"
   ]
  },
  {
   "cell_type": "code",
   "execution_count": 4,
   "id": "1551191b",
   "metadata": {
    "execution": {
     "iopub.execute_input": "2023-12-31T05:47:47.435451Z",
     "iopub.status.busy": "2023-12-31T05:47:47.434608Z",
     "iopub.status.idle": "2023-12-31T05:47:47.477357Z",
     "shell.execute_reply": "2023-12-31T05:47:47.476006Z"
    },
    "papermill": {
     "duration": 0.054531,
     "end_time": "2023-12-31T05:47:47.480820",
     "exception": false,
     "start_time": "2023-12-31T05:47:47.426289",
     "status": "completed"
    },
    "tags": []
   },
   "outputs": [
    {
     "name": "stdout",
     "output_type": "stream",
     "text": [
      "<class 'pandas.core.frame.DataFrame'>\n",
      "RangeIndex: 2823 entries, 0 to 2822\n",
      "Data columns (total 25 columns):\n",
      " #   Column            Non-Null Count  Dtype  \n",
      "---  ------            --------------  -----  \n",
      " 0   ORDERNUMBER       2823 non-null   int64  \n",
      " 1   QUANTITYORDERED   2823 non-null   int64  \n",
      " 2   PRICEEACH         2823 non-null   float64\n",
      " 3   ORDERLINENUMBER   2823 non-null   int64  \n",
      " 4   SALES             2823 non-null   float64\n",
      " 5   ORDERDATE         2823 non-null   object \n",
      " 6   STATUS            2823 non-null   object \n",
      " 7   QTR_ID            2823 non-null   int64  \n",
      " 8   MONTH_ID          2823 non-null   int64  \n",
      " 9   YEAR_ID           2823 non-null   int64  \n",
      " 10  PRODUCTLINE       2823 non-null   object \n",
      " 11  MSRP              2823 non-null   int64  \n",
      " 12  PRODUCTCODE       2823 non-null   object \n",
      " 13  CUSTOMERNAME      2823 non-null   object \n",
      " 14  PHONE             2823 non-null   object \n",
      " 15  ADDRESSLINE1      2823 non-null   object \n",
      " 16  ADDRESSLINE2      302 non-null    object \n",
      " 17  CITY              2823 non-null   object \n",
      " 18  STATE             1337 non-null   object \n",
      " 19  POSTALCODE        2747 non-null   object \n",
      " 20  COUNTRY           2823 non-null   object \n",
      " 21  TERRITORY         1749 non-null   object \n",
      " 22  CONTACTLASTNAME   2823 non-null   object \n",
      " 23  CONTACTFIRSTNAME  2823 non-null   object \n",
      " 24  DEALSIZE          2823 non-null   object \n",
      "dtypes: float64(2), int64(7), object(16)\n",
      "memory usage: 551.5+ KB\n"
     ]
    }
   ],
   "source": [
    "df.info()"
   ]
  },
  {
   "cell_type": "code",
   "execution_count": 5,
   "id": "a59eca09",
   "metadata": {
    "execution": {
     "iopub.execute_input": "2023-12-31T05:47:47.498317Z",
     "iopub.status.busy": "2023-12-31T05:47:47.497852Z",
     "iopub.status.idle": "2023-12-31T05:47:47.547507Z",
     "shell.execute_reply": "2023-12-31T05:47:47.546189Z"
    },
    "papermill": {
     "duration": 0.062304,
     "end_time": "2023-12-31T05:47:47.550417",
     "exception": false,
     "start_time": "2023-12-31T05:47:47.488113",
     "status": "completed"
    },
    "tags": []
   },
   "outputs": [
    {
     "data": {
      "text/html": [
       "<div>\n",
       "<style scoped>\n",
       "    .dataframe tbody tr th:only-of-type {\n",
       "        vertical-align: middle;\n",
       "    }\n",
       "\n",
       "    .dataframe tbody tr th {\n",
       "        vertical-align: top;\n",
       "    }\n",
       "\n",
       "    .dataframe thead th {\n",
       "        text-align: right;\n",
       "    }\n",
       "</style>\n",
       "<table border=\"1\" class=\"dataframe\">\n",
       "  <thead>\n",
       "    <tr style=\"text-align: right;\">\n",
       "      <th></th>\n",
       "      <th>ORDERNUMBER</th>\n",
       "      <th>QUANTITYORDERED</th>\n",
       "      <th>PRICEEACH</th>\n",
       "      <th>ORDERLINENUMBER</th>\n",
       "      <th>SALES</th>\n",
       "      <th>QTR_ID</th>\n",
       "      <th>MONTH_ID</th>\n",
       "      <th>YEAR_ID</th>\n",
       "      <th>MSRP</th>\n",
       "    </tr>\n",
       "  </thead>\n",
       "  <tbody>\n",
       "    <tr>\n",
       "      <th>count</th>\n",
       "      <td>2823.000000</td>\n",
       "      <td>2823.000000</td>\n",
       "      <td>2823.000000</td>\n",
       "      <td>2823.000000</td>\n",
       "      <td>2823.000000</td>\n",
       "      <td>2823.000000</td>\n",
       "      <td>2823.000000</td>\n",
       "      <td>2823.00000</td>\n",
       "      <td>2823.000000</td>\n",
       "    </tr>\n",
       "    <tr>\n",
       "      <th>mean</th>\n",
       "      <td>10258.725115</td>\n",
       "      <td>35.092809</td>\n",
       "      <td>83.658544</td>\n",
       "      <td>6.466171</td>\n",
       "      <td>3553.889072</td>\n",
       "      <td>2.717676</td>\n",
       "      <td>7.092455</td>\n",
       "      <td>2003.81509</td>\n",
       "      <td>100.715551</td>\n",
       "    </tr>\n",
       "    <tr>\n",
       "      <th>std</th>\n",
       "      <td>92.085478</td>\n",
       "      <td>9.741443</td>\n",
       "      <td>20.174277</td>\n",
       "      <td>4.225841</td>\n",
       "      <td>1841.865106</td>\n",
       "      <td>1.203878</td>\n",
       "      <td>3.656633</td>\n",
       "      <td>0.69967</td>\n",
       "      <td>40.187912</td>\n",
       "    </tr>\n",
       "    <tr>\n",
       "      <th>min</th>\n",
       "      <td>10100.000000</td>\n",
       "      <td>6.000000</td>\n",
       "      <td>26.880000</td>\n",
       "      <td>1.000000</td>\n",
       "      <td>482.130000</td>\n",
       "      <td>1.000000</td>\n",
       "      <td>1.000000</td>\n",
       "      <td>2003.00000</td>\n",
       "      <td>33.000000</td>\n",
       "    </tr>\n",
       "    <tr>\n",
       "      <th>25%</th>\n",
       "      <td>10180.000000</td>\n",
       "      <td>27.000000</td>\n",
       "      <td>68.860000</td>\n",
       "      <td>3.000000</td>\n",
       "      <td>2203.430000</td>\n",
       "      <td>2.000000</td>\n",
       "      <td>4.000000</td>\n",
       "      <td>2003.00000</td>\n",
       "      <td>68.000000</td>\n",
       "    </tr>\n",
       "    <tr>\n",
       "      <th>50%</th>\n",
       "      <td>10262.000000</td>\n",
       "      <td>35.000000</td>\n",
       "      <td>95.700000</td>\n",
       "      <td>6.000000</td>\n",
       "      <td>3184.800000</td>\n",
       "      <td>3.000000</td>\n",
       "      <td>8.000000</td>\n",
       "      <td>2004.00000</td>\n",
       "      <td>99.000000</td>\n",
       "    </tr>\n",
       "    <tr>\n",
       "      <th>75%</th>\n",
       "      <td>10333.500000</td>\n",
       "      <td>43.000000</td>\n",
       "      <td>100.000000</td>\n",
       "      <td>9.000000</td>\n",
       "      <td>4508.000000</td>\n",
       "      <td>4.000000</td>\n",
       "      <td>11.000000</td>\n",
       "      <td>2004.00000</td>\n",
       "      <td>124.000000</td>\n",
       "    </tr>\n",
       "    <tr>\n",
       "      <th>max</th>\n",
       "      <td>10425.000000</td>\n",
       "      <td>97.000000</td>\n",
       "      <td>100.000000</td>\n",
       "      <td>18.000000</td>\n",
       "      <td>14082.800000</td>\n",
       "      <td>4.000000</td>\n",
       "      <td>12.000000</td>\n",
       "      <td>2005.00000</td>\n",
       "      <td>214.000000</td>\n",
       "    </tr>\n",
       "  </tbody>\n",
       "</table>\n",
       "</div>"
      ],
      "text/plain": [
       "        ORDERNUMBER  QUANTITYORDERED    PRICEEACH  ORDERLINENUMBER  \\\n",
       "count   2823.000000      2823.000000  2823.000000      2823.000000   \n",
       "mean   10258.725115        35.092809    83.658544         6.466171   \n",
       "std       92.085478         9.741443    20.174277         4.225841   \n",
       "min    10100.000000         6.000000    26.880000         1.000000   \n",
       "25%    10180.000000        27.000000    68.860000         3.000000   \n",
       "50%    10262.000000        35.000000    95.700000         6.000000   \n",
       "75%    10333.500000        43.000000   100.000000         9.000000   \n",
       "max    10425.000000        97.000000   100.000000        18.000000   \n",
       "\n",
       "              SALES       QTR_ID     MONTH_ID     YEAR_ID         MSRP  \n",
       "count   2823.000000  2823.000000  2823.000000  2823.00000  2823.000000  \n",
       "mean    3553.889072     2.717676     7.092455  2003.81509   100.715551  \n",
       "std     1841.865106     1.203878     3.656633     0.69967    40.187912  \n",
       "min      482.130000     1.000000     1.000000  2003.00000    33.000000  \n",
       "25%     2203.430000     2.000000     4.000000  2003.00000    68.000000  \n",
       "50%     3184.800000     3.000000     8.000000  2004.00000    99.000000  \n",
       "75%     4508.000000     4.000000    11.000000  2004.00000   124.000000  \n",
       "max    14082.800000     4.000000    12.000000  2005.00000   214.000000  "
      ]
     },
     "execution_count": 5,
     "metadata": {},
     "output_type": "execute_result"
    }
   ],
   "source": [
    "df.describe()"
   ]
  },
  {
   "cell_type": "code",
   "execution_count": 6,
   "id": "141dc07b",
   "metadata": {
    "execution": {
     "iopub.execute_input": "2023-12-31T05:47:47.568043Z",
     "iopub.status.busy": "2023-12-31T05:47:47.567079Z",
     "iopub.status.idle": "2023-12-31T05:47:47.575037Z",
     "shell.execute_reply": "2023-12-31T05:47:47.573827Z"
    },
    "papermill": {
     "duration": 0.019938,
     "end_time": "2023-12-31T05:47:47.577898",
     "exception": false,
     "start_time": "2023-12-31T05:47:47.557960",
     "status": "completed"
    },
    "tags": []
   },
   "outputs": [
    {
     "data": {
      "text/plain": [
       "(2823, 25)"
      ]
     },
     "execution_count": 6,
     "metadata": {},
     "output_type": "execute_result"
    }
   ],
   "source": [
    "df.shape"
   ]
  },
  {
   "cell_type": "code",
   "execution_count": 7,
   "id": "a2934b3d",
   "metadata": {
    "execution": {
     "iopub.execute_input": "2023-12-31T05:47:47.595924Z",
     "iopub.status.busy": "2023-12-31T05:47:47.595136Z",
     "iopub.status.idle": "2023-12-31T05:47:47.616767Z",
     "shell.execute_reply": "2023-12-31T05:47:47.615664Z"
    },
    "papermill": {
     "duration": 0.033282,
     "end_time": "2023-12-31T05:47:47.619383",
     "exception": false,
     "start_time": "2023-12-31T05:47:47.586101",
     "status": "completed"
    },
    "tags": []
   },
   "outputs": [
    {
     "data": {
      "text/plain": [
       "0"
      ]
     },
     "execution_count": 7,
     "metadata": {},
     "output_type": "execute_result"
    }
   ],
   "source": [
    "df.duplicated().sum()"
   ]
  },
  {
   "cell_type": "code",
   "execution_count": 8,
   "id": "3f0bdd14",
   "metadata": {
    "execution": {
     "iopub.execute_input": "2023-12-31T05:47:47.637554Z",
     "iopub.status.busy": "2023-12-31T05:47:47.637110Z",
     "iopub.status.idle": "2023-12-31T05:47:47.665451Z",
     "shell.execute_reply": "2023-12-31T05:47:47.664349Z"
    },
    "papermill": {
     "duration": 0.0408,
     "end_time": "2023-12-31T05:47:47.668147",
     "exception": false,
     "start_time": "2023-12-31T05:47:47.627347",
     "status": "completed"
    },
    "tags": []
   },
   "outputs": [
    {
     "data": {
      "text/html": [
       "<div>\n",
       "<style scoped>\n",
       "    .dataframe tbody tr th:only-of-type {\n",
       "        vertical-align: middle;\n",
       "    }\n",
       "\n",
       "    .dataframe tbody tr th {\n",
       "        vertical-align: top;\n",
       "    }\n",
       "\n",
       "    .dataframe thead th {\n",
       "        text-align: right;\n",
       "    }\n",
       "</style>\n",
       "<table border=\"1\" class=\"dataframe\">\n",
       "  <thead>\n",
       "    <tr style=\"text-align: right;\">\n",
       "      <th></th>\n",
       "      <th>ORDERNUMBER</th>\n",
       "      <th>QUANTITYORDERED</th>\n",
       "      <th>PRICEEACH</th>\n",
       "      <th>ORDERLINENUMBER</th>\n",
       "      <th>SALES</th>\n",
       "      <th>ORDERDATE</th>\n",
       "      <th>STATUS</th>\n",
       "      <th>QTR_ID</th>\n",
       "      <th>MONTH_ID</th>\n",
       "      <th>YEAR_ID</th>\n",
       "      <th>...</th>\n",
       "      <th>ADDRESSLINE1</th>\n",
       "      <th>ADDRESSLINE2</th>\n",
       "      <th>CITY</th>\n",
       "      <th>STATE</th>\n",
       "      <th>POSTALCODE</th>\n",
       "      <th>COUNTRY</th>\n",
       "      <th>TERRITORY</th>\n",
       "      <th>CONTACTLASTNAME</th>\n",
       "      <th>CONTACTFIRSTNAME</th>\n",
       "      <th>DEALSIZE</th>\n",
       "    </tr>\n",
       "  </thead>\n",
       "  <tbody>\n",
       "    <tr>\n",
       "      <th>0</th>\n",
       "      <td>10107</td>\n",
       "      <td>30</td>\n",
       "      <td>95.70</td>\n",
       "      <td>2</td>\n",
       "      <td>2871.00</td>\n",
       "      <td>2/24/2003 0:00</td>\n",
       "      <td>Shipped</td>\n",
       "      <td>1</td>\n",
       "      <td>2</td>\n",
       "      <td>2003</td>\n",
       "      <td>...</td>\n",
       "      <td>897 Long Airport Avenue</td>\n",
       "      <td>NaN</td>\n",
       "      <td>NYC</td>\n",
       "      <td>NY</td>\n",
       "      <td>10022</td>\n",
       "      <td>USA</td>\n",
       "      <td>NaN</td>\n",
       "      <td>Yu</td>\n",
       "      <td>Kwai</td>\n",
       "      <td>Small</td>\n",
       "    </tr>\n",
       "    <tr>\n",
       "      <th>1</th>\n",
       "      <td>10121</td>\n",
       "      <td>34</td>\n",
       "      <td>81.35</td>\n",
       "      <td>5</td>\n",
       "      <td>2765.90</td>\n",
       "      <td>5/7/2003 0:00</td>\n",
       "      <td>Shipped</td>\n",
       "      <td>2</td>\n",
       "      <td>5</td>\n",
       "      <td>2003</td>\n",
       "      <td>...</td>\n",
       "      <td>59 rue de l'Abbaye</td>\n",
       "      <td>NaN</td>\n",
       "      <td>Reims</td>\n",
       "      <td>NaN</td>\n",
       "      <td>51100</td>\n",
       "      <td>France</td>\n",
       "      <td>EMEA</td>\n",
       "      <td>Henriot</td>\n",
       "      <td>Paul</td>\n",
       "      <td>Small</td>\n",
       "    </tr>\n",
       "    <tr>\n",
       "      <th>2</th>\n",
       "      <td>10134</td>\n",
       "      <td>41</td>\n",
       "      <td>94.74</td>\n",
       "      <td>2</td>\n",
       "      <td>3884.34</td>\n",
       "      <td>7/1/2003 0:00</td>\n",
       "      <td>Shipped</td>\n",
       "      <td>3</td>\n",
       "      <td>7</td>\n",
       "      <td>2003</td>\n",
       "      <td>...</td>\n",
       "      <td>27 rue du Colonel Pierre Avia</td>\n",
       "      <td>NaN</td>\n",
       "      <td>Paris</td>\n",
       "      <td>NaN</td>\n",
       "      <td>75508</td>\n",
       "      <td>France</td>\n",
       "      <td>EMEA</td>\n",
       "      <td>Da Cunha</td>\n",
       "      <td>Daniel</td>\n",
       "      <td>Medium</td>\n",
       "    </tr>\n",
       "    <tr>\n",
       "      <th>3</th>\n",
       "      <td>10145</td>\n",
       "      <td>45</td>\n",
       "      <td>83.26</td>\n",
       "      <td>6</td>\n",
       "      <td>3746.70</td>\n",
       "      <td>8/25/2003 0:00</td>\n",
       "      <td>Shipped</td>\n",
       "      <td>3</td>\n",
       "      <td>8</td>\n",
       "      <td>2003</td>\n",
       "      <td>...</td>\n",
       "      <td>78934 Hillside Dr.</td>\n",
       "      <td>NaN</td>\n",
       "      <td>Pasadena</td>\n",
       "      <td>CA</td>\n",
       "      <td>90003</td>\n",
       "      <td>USA</td>\n",
       "      <td>NaN</td>\n",
       "      <td>Young</td>\n",
       "      <td>Julie</td>\n",
       "      <td>Medium</td>\n",
       "    </tr>\n",
       "    <tr>\n",
       "      <th>4</th>\n",
       "      <td>10159</td>\n",
       "      <td>49</td>\n",
       "      <td>100.00</td>\n",
       "      <td>14</td>\n",
       "      <td>5205.27</td>\n",
       "      <td>10/10/2003 0:00</td>\n",
       "      <td>Shipped</td>\n",
       "      <td>4</td>\n",
       "      <td>10</td>\n",
       "      <td>2003</td>\n",
       "      <td>...</td>\n",
       "      <td>7734 Strong St.</td>\n",
       "      <td>NaN</td>\n",
       "      <td>San Francisco</td>\n",
       "      <td>CA</td>\n",
       "      <td>NaN</td>\n",
       "      <td>USA</td>\n",
       "      <td>NaN</td>\n",
       "      <td>Brown</td>\n",
       "      <td>Julie</td>\n",
       "      <td>Medium</td>\n",
       "    </tr>\n",
       "  </tbody>\n",
       "</table>\n",
       "<p>5 rows × 25 columns</p>\n",
       "</div>"
      ],
      "text/plain": [
       "   ORDERNUMBER  QUANTITYORDERED  PRICEEACH  ORDERLINENUMBER    SALES  \\\n",
       "0        10107               30      95.70                2  2871.00   \n",
       "1        10121               34      81.35                5  2765.90   \n",
       "2        10134               41      94.74                2  3884.34   \n",
       "3        10145               45      83.26                6  3746.70   \n",
       "4        10159               49     100.00               14  5205.27   \n",
       "\n",
       "         ORDERDATE   STATUS  QTR_ID  MONTH_ID  YEAR_ID  ...  \\\n",
       "0   2/24/2003 0:00  Shipped       1         2     2003  ...   \n",
       "1    5/7/2003 0:00  Shipped       2         5     2003  ...   \n",
       "2    7/1/2003 0:00  Shipped       3         7     2003  ...   \n",
       "3   8/25/2003 0:00  Shipped       3         8     2003  ...   \n",
       "4  10/10/2003 0:00  Shipped       4        10     2003  ...   \n",
       "\n",
       "                    ADDRESSLINE1  ADDRESSLINE2           CITY STATE  \\\n",
       "0        897 Long Airport Avenue           NaN            NYC    NY   \n",
       "1             59 rue de l'Abbaye           NaN          Reims   NaN   \n",
       "2  27 rue du Colonel Pierre Avia           NaN          Paris   NaN   \n",
       "3             78934 Hillside Dr.           NaN       Pasadena    CA   \n",
       "4                7734 Strong St.           NaN  San Francisco    CA   \n",
       "\n",
       "  POSTALCODE COUNTRY TERRITORY CONTACTLASTNAME CONTACTFIRSTNAME DEALSIZE  \n",
       "0      10022     USA       NaN              Yu             Kwai    Small  \n",
       "1      51100  France      EMEA         Henriot             Paul    Small  \n",
       "2      75508  France      EMEA        Da Cunha           Daniel   Medium  \n",
       "3      90003     USA       NaN           Young            Julie   Medium  \n",
       "4        NaN     USA       NaN           Brown            Julie   Medium  \n",
       "\n",
       "[5 rows x 25 columns]"
      ]
     },
     "execution_count": 8,
     "metadata": {},
     "output_type": "execute_result"
    }
   ],
   "source": [
    "df.head()"
   ]
  },
  {
   "cell_type": "markdown",
   "id": "16d0467d",
   "metadata": {
    "papermill": {
     "duration": 0.008352,
     "end_time": "2023-12-31T05:47:47.685150",
     "exception": false,
     "start_time": "2023-12-31T05:47:47.676798",
     "status": "completed"
    },
    "tags": []
   },
   "source": [
    "**Remove duplicate**"
   ]
  },
  {
   "cell_type": "code",
   "execution_count": 9,
   "id": "6194ecef",
   "metadata": {
    "execution": {
     "iopub.execute_input": "2023-12-31T05:47:47.705450Z",
     "iopub.status.busy": "2023-12-31T05:47:47.704948Z",
     "iopub.status.idle": "2023-12-31T05:47:47.720921Z",
     "shell.execute_reply": "2023-12-31T05:47:47.719279Z"
    },
    "papermill": {
     "duration": 0.029555,
     "end_time": "2023-12-31T05:47:47.723959",
     "exception": false,
     "start_time": "2023-12-31T05:47:47.694404",
     "status": "completed"
    },
    "tags": []
   },
   "outputs": [],
   "source": [
    "df.drop_duplicates(inplace = True)"
   ]
  },
  {
   "cell_type": "code",
   "execution_count": 10,
   "id": "b7f359ef",
   "metadata": {
    "execution": {
     "iopub.execute_input": "2023-12-31T05:47:47.745020Z",
     "iopub.status.busy": "2023-12-31T05:47:47.744629Z",
     "iopub.status.idle": "2023-12-31T05:47:47.760973Z",
     "shell.execute_reply": "2023-12-31T05:47:47.759960Z"
    },
    "papermill": {
     "duration": 0.029208,
     "end_time": "2023-12-31T05:47:47.763664",
     "exception": false,
     "start_time": "2023-12-31T05:47:47.734456",
     "status": "completed"
    },
    "tags": []
   },
   "outputs": [
    {
     "name": "stdout",
     "output_type": "stream",
     "text": [
      "Duplicate =  0\n"
     ]
    }
   ],
   "source": [
    "print(\"Duplicate = \", df.duplicated().sum())"
   ]
  },
  {
   "cell_type": "markdown",
   "id": "a2abb0a5",
   "metadata": {
    "papermill": {
     "duration": 0.009234,
     "end_time": "2023-12-31T05:47:47.781741",
     "exception": false,
     "start_time": "2023-12-31T05:47:47.772507",
     "status": "completed"
    },
    "tags": []
   },
   "source": [
    "**Aswer the question**"
   ]
  },
  {
   "cell_type": "code",
   "execution_count": 11,
   "id": "2c84e17f",
   "metadata": {
    "execution": {
     "iopub.execute_input": "2023-12-31T05:47:47.801002Z",
     "iopub.status.busy": "2023-12-31T05:47:47.799952Z",
     "iopub.status.idle": "2023-12-31T05:47:47.819073Z",
     "shell.execute_reply": "2023-12-31T05:47:47.817837Z"
    },
    "papermill": {
     "duration": 0.031804,
     "end_time": "2023-12-31T05:47:47.822014",
     "exception": false,
     "start_time": "2023-12-31T05:47:47.790210",
     "status": "completed"
    },
    "tags": []
   },
   "outputs": [
    {
     "data": {
      "text/html": [
       "<div>\n",
       "<style scoped>\n",
       "    .dataframe tbody tr th:only-of-type {\n",
       "        vertical-align: middle;\n",
       "    }\n",
       "\n",
       "    .dataframe tbody tr th {\n",
       "        vertical-align: top;\n",
       "    }\n",
       "\n",
       "    .dataframe thead th {\n",
       "        text-align: right;\n",
       "    }\n",
       "</style>\n",
       "<table border=\"1\" class=\"dataframe\">\n",
       "  <thead>\n",
       "    <tr style=\"text-align: right;\">\n",
       "      <th></th>\n",
       "      <th>QUANTITYORDERED</th>\n",
       "      <th>SALES</th>\n",
       "    </tr>\n",
       "  </thead>\n",
       "  <tbody>\n",
       "    <tr>\n",
       "      <th>count</th>\n",
       "      <td>2823.000000</td>\n",
       "      <td>2823.000000</td>\n",
       "    </tr>\n",
       "    <tr>\n",
       "      <th>mean</th>\n",
       "      <td>35.092809</td>\n",
       "      <td>3553.889072</td>\n",
       "    </tr>\n",
       "    <tr>\n",
       "      <th>std</th>\n",
       "      <td>9.741443</td>\n",
       "      <td>1841.865106</td>\n",
       "    </tr>\n",
       "    <tr>\n",
       "      <th>min</th>\n",
       "      <td>6.000000</td>\n",
       "      <td>482.130000</td>\n",
       "    </tr>\n",
       "    <tr>\n",
       "      <th>25%</th>\n",
       "      <td>27.000000</td>\n",
       "      <td>2203.430000</td>\n",
       "    </tr>\n",
       "    <tr>\n",
       "      <th>50%</th>\n",
       "      <td>35.000000</td>\n",
       "      <td>3184.800000</td>\n",
       "    </tr>\n",
       "    <tr>\n",
       "      <th>75%</th>\n",
       "      <td>43.000000</td>\n",
       "      <td>4508.000000</td>\n",
       "    </tr>\n",
       "    <tr>\n",
       "      <th>max</th>\n",
       "      <td>97.000000</td>\n",
       "      <td>14082.800000</td>\n",
       "    </tr>\n",
       "  </tbody>\n",
       "</table>\n",
       "</div>"
      ],
      "text/plain": [
       "       QUANTITYORDERED         SALES\n",
       "count      2823.000000   2823.000000\n",
       "mean         35.092809   3553.889072\n",
       "std           9.741443   1841.865106\n",
       "min           6.000000    482.130000\n",
       "25%          27.000000   2203.430000\n",
       "50%          35.000000   3184.800000\n",
       "75%          43.000000   4508.000000\n",
       "max          97.000000  14082.800000"
      ]
     },
     "execution_count": 11,
     "metadata": {},
     "output_type": "execute_result"
    }
   ],
   "source": [
    "# How is the distribution of order quantities and sales?\n",
    "df[['QUANTITYORDERED', 'SALES']].describe()"
   ]
  },
  {
   "cell_type": "code",
   "execution_count": 12,
   "id": "f5248c6a",
   "metadata": {
    "execution": {
     "iopub.execute_input": "2023-12-31T05:47:47.842330Z",
     "iopub.status.busy": "2023-12-31T05:47:47.841100Z",
     "iopub.status.idle": "2023-12-31T05:47:47.856822Z",
     "shell.execute_reply": "2023-12-31T05:47:47.855366Z"
    },
    "papermill": {
     "duration": 0.028958,
     "end_time": "2023-12-31T05:47:47.859723",
     "exception": false,
     "start_time": "2023-12-31T05:47:47.830765",
     "status": "completed"
    },
    "tags": []
   },
   "outputs": [
    {
     "data": {
      "text/html": [
       "<div>\n",
       "<style scoped>\n",
       "    .dataframe tbody tr th:only-of-type {\n",
       "        vertical-align: middle;\n",
       "    }\n",
       "\n",
       "    .dataframe tbody tr th {\n",
       "        vertical-align: top;\n",
       "    }\n",
       "\n",
       "    .dataframe thead th {\n",
       "        text-align: right;\n",
       "    }\n",
       "</style>\n",
       "<table border=\"1\" class=\"dataframe\">\n",
       "  <thead>\n",
       "    <tr style=\"text-align: right;\">\n",
       "      <th></th>\n",
       "      <th>PRICEEACH</th>\n",
       "      <th>SALES</th>\n",
       "    </tr>\n",
       "  </thead>\n",
       "  <tbody>\n",
       "    <tr>\n",
       "      <th>PRICEEACH</th>\n",
       "      <td>1.000000</td>\n",
       "      <td>0.657841</td>\n",
       "    </tr>\n",
       "    <tr>\n",
       "      <th>SALES</th>\n",
       "      <td>0.657841</td>\n",
       "      <td>1.000000</td>\n",
       "    </tr>\n",
       "  </tbody>\n",
       "</table>\n",
       "</div>"
      ],
      "text/plain": [
       "           PRICEEACH     SALES\n",
       "PRICEEACH   1.000000  0.657841\n",
       "SALES       0.657841  1.000000"
      ]
     },
     "execution_count": 12,
     "metadata": {},
     "output_type": "execute_result"
    }
   ],
   "source": [
    "#What is the correlation between the price of each item (PRICEEACH) and the total sales (SALES)?\n",
    "df[['PRICEEACH', 'SALES']].corr()"
   ]
  },
  {
   "cell_type": "code",
   "execution_count": 13,
   "id": "88c135fe",
   "metadata": {
    "execution": {
     "iopub.execute_input": "2023-12-31T05:47:47.879998Z",
     "iopub.status.busy": "2023-12-31T05:47:47.879561Z",
     "iopub.status.idle": "2023-12-31T05:47:47.922917Z",
     "shell.execute_reply": "2023-12-31T05:47:47.921775Z"
    },
    "papermill": {
     "duration": 0.056503,
     "end_time": "2023-12-31T05:47:47.925288",
     "exception": false,
     "start_time": "2023-12-31T05:47:47.868785",
     "status": "completed"
    },
    "tags": []
   },
   "outputs": [
    {
     "data": {
      "text/plain": [
       "ORDERDATE\n",
       "2003-01-31     39\n",
       "2003-02-28     41\n",
       "2003-03-31     50\n",
       "2003-04-30     58\n",
       "2003-05-31     58\n",
       "2003-06-30     46\n",
       "2003-07-31     50\n",
       "2003-08-31     58\n",
       "2003-09-30     76\n",
       "2003-10-31    158\n",
       "2003-11-30    296\n",
       "2003-12-31     70\n",
       "2004-01-31     91\n",
       "2004-02-29     86\n",
       "2004-03-31     56\n",
       "2004-04-30     64\n",
       "2004-05-31     74\n",
       "2004-06-30     85\n",
       "2004-07-31     91\n",
       "2004-08-31    133\n",
       "2004-09-30     95\n",
       "2004-10-31    159\n",
       "2004-11-30    301\n",
       "2004-12-31    110\n",
       "2005-01-31     99\n",
       "2005-02-28     97\n",
       "2005-03-31    106\n",
       "2005-04-30     56\n",
       "2005-05-31    120\n",
       "Freq: M, dtype: int64"
      ]
     },
     "execution_count": 13,
     "metadata": {},
     "output_type": "execute_result"
    }
   ],
   "source": [
    "#What are the trends in orders over time?\n",
    "df['ORDERDATE'] = pd.to_datetime(df['ORDERDATE'])\n",
    "df.set_index('ORDERDATE').resample('M').size()"
   ]
  },
  {
   "cell_type": "code",
   "execution_count": 14,
   "id": "f8d3a11a",
   "metadata": {
    "execution": {
     "iopub.execute_input": "2023-12-31T05:47:47.946020Z",
     "iopub.status.busy": "2023-12-31T05:47:47.944833Z",
     "iopub.status.idle": "2023-12-31T05:47:47.955197Z",
     "shell.execute_reply": "2023-12-31T05:47:47.953946Z"
    },
    "papermill": {
     "duration": 0.023407,
     "end_time": "2023-12-31T05:47:47.957788",
     "exception": false,
     "start_time": "2023-12-31T05:47:47.934381",
     "status": "completed"
    },
    "tags": []
   },
   "outputs": [
    {
     "data": {
      "text/plain": [
       "STATUS\n",
       "Shipped       2617\n",
       "Cancelled       60\n",
       "Resolved        47\n",
       "On Hold         44\n",
       "In Process      41\n",
       "Disputed        14\n",
       "Name: count, dtype: int64"
      ]
     },
     "execution_count": 14,
     "metadata": {},
     "output_type": "execute_result"
    }
   ],
   "source": [
    "#What is the distribution of order statuses?\n",
    "df['STATUS'].value_counts()"
   ]
  },
  {
   "cell_type": "code",
   "execution_count": 15,
   "id": "430832b0",
   "metadata": {
    "execution": {
     "iopub.execute_input": "2023-12-31T05:47:47.980376Z",
     "iopub.status.busy": "2023-12-31T05:47:47.979559Z",
     "iopub.status.idle": "2023-12-31T05:47:47.988431Z",
     "shell.execute_reply": "2023-12-31T05:47:47.987499Z"
    },
    "papermill": {
     "duration": 0.023649,
     "end_time": "2023-12-31T05:47:47.990833",
     "exception": false,
     "start_time": "2023-12-31T05:47:47.967184",
     "status": "completed"
    },
    "tags": []
   },
   "outputs": [
    {
     "data": {
      "text/plain": [
       "PRODUCTLINE\n",
       "Classic Cars        967\n",
       "Vintage Cars        607\n",
       "Motorcycles         331\n",
       "Planes              306\n",
       "Trucks and Buses    301\n",
       "Ships               234\n",
       "Trains               77\n",
       "Name: count, dtype: int64"
      ]
     },
     "execution_count": 15,
     "metadata": {},
     "output_type": "execute_result"
    }
   ],
   "source": [
    "#Which product line has the highest or lowest\n",
    "df['PRODUCTLINE'].value_counts()"
   ]
  },
  {
   "cell_type": "code",
   "execution_count": 16,
   "id": "f957d1bd",
   "metadata": {
    "execution": {
     "iopub.execute_input": "2023-12-31T05:47:48.012398Z",
     "iopub.status.busy": "2023-12-31T05:47:48.011609Z",
     "iopub.status.idle": "2023-12-31T05:47:48.022175Z",
     "shell.execute_reply": "2023-12-31T05:47:48.021052Z"
    },
    "papermill": {
     "duration": 0.024024,
     "end_time": "2023-12-31T05:47:48.024759",
     "exception": false,
     "start_time": "2023-12-31T05:47:48.000735",
     "status": "completed"
    },
    "tags": []
   },
   "outputs": [
    {
     "data": {
      "text/plain": [
       "COUNTRY\n",
       "USA            1004\n",
       "Spain           342\n",
       "France          314\n",
       "Australia       185\n",
       "UK              144\n",
       "Italy           113\n",
       "Finland          92\n",
       "Norway           85\n",
       "Singapore        79\n",
       "Canada           70\n",
       "Denmark          63\n",
       "Germany          62\n",
       "Sweden           57\n",
       "Austria          55\n",
       "Japan            52\n",
       "Belgium          33\n",
       "Switzerland      31\n",
       "Philippines      26\n",
       "Ireland          16\n",
       "Name: count, dtype: int64"
      ]
     },
     "execution_count": 16,
     "metadata": {},
     "output_type": "execute_result"
    }
   ],
   "source": [
    "#How is the distribution of sales across different countries or regions?\n",
    "df['COUNTRY'].value_counts()"
   ]
  }
 ],
 "metadata": {
  "kaggle": {
   "accelerator": "none",
   "dataSources": [
    {
     "datasetId": 435,
     "sourceId": 896,
     "sourceType": "datasetVersion"
    }
   ],
   "dockerImageVersionId": 30626,
   "isGpuEnabled": false,
   "isInternetEnabled": false,
   "language": "python",
   "sourceType": "notebook"
  },
  "kernelspec": {
   "display_name": "Python 3 (ipykernel)",
   "language": "python",
   "name": "python3"
  },
  "language_info": {
   "codemirror_mode": {
    "name": "ipython",
    "version": 3
   },
   "file_extension": ".py",
   "mimetype": "text/x-python",
   "name": "python",
   "nbconvert_exporter": "python",
   "pygments_lexer": "ipython3",
   "version": "3.11.5"
  },
  "papermill": {
   "default_parameters": {},
   "duration": 5.401611,
   "end_time": "2023-12-31T05:47:48.555907",
   "environment_variables": {},
   "exception": null,
   "input_path": "__notebook__.ipynb",
   "output_path": "__notebook__.ipynb",
   "parameters": {},
   "start_time": "2023-12-31T05:47:43.154296",
   "version": "2.4.0"
  }
 },
 "nbformat": 4,
 "nbformat_minor": 5
}
